{
 "cells": [
  {
   "cell_type": "markdown",
   "metadata": {},
   "source": [
    "# A2. Bias in Data"
   ]
  },
  {
   "cell_type": "markdown",
   "metadata": {},
   "source": [
    "#### Samir D Patel\n",
    "#### DATA 512 - HCDS¶\n",
    "#### 11/2/2017"
   ]
  },
  {
   "cell_type": "markdown",
   "metadata": {},
   "source": [
    " "
   ]
  },
  {
   "cell_type": "markdown",
   "metadata": {},
   "source": [
    "### Objective\n",
    "\n",
    "In this notebook, I will be exploring bias through data obtained from WIkipedia articles on political figures from various countries.  \n",
    "\n",
    "First, I will combine a dataset of Wikipedia articles with a second dataset of country populations.  A machine learning tool called ORES will be used on this combined dataset to estimate the article quality.\n",
    "\n",
    "Next, an analysis will then look at coverage of politicans on Wikipedia and the how quality of articles about politicans varies between countries.\n",
    "\n",
    "Then visualizations and/or output will be generated to display the following:\n",
    "\n",
    "    1. The countries with the greatest and least coverage of politicians on Wikipedia compared to their population.\n",
    "    \n",
    "    2. The countries with the highest and lowest proportion of high quality articles about politicians.\n",
    "    \n",
    "Finally, I will summarize how this assignment affected my understanding of causes and consequences of bias on Wikiepdia."
   ]
  },
  {
   "cell_type": "markdown",
   "metadata": {
    "collapsed": true
   },
   "source": [
    " "
   ]
  },
  {
   "cell_type": "markdown",
   "metadata": {
    "collapsed": true
   },
   "source": [
    "#### Importing relevant Python packages."
   ]
  },
  {
   "cell_type": "code",
   "execution_count": 1,
   "metadata": {
    "collapsed": true
   },
   "outputs": [],
   "source": [
    "import pickle\n",
    "import numpy as np\n",
    "import pandas as pd\n",
    "import requests\n",
    "import json\n",
    "import matplotlib.pyplot as plt\n",
    "%matplotlib inline"
   ]
  },
  {
   "cell_type": "markdown",
   "metadata": {},
   "source": [
    "### Step 1:  Getting Data sets"
   ]
  },
  {
   "cell_type": "markdown",
   "metadata": {},
   "source": [
    "#### Wikipedia article data for \"Politicians by country from the English-language Wikipedia\"\n",
    "\n",
    "    Released under the CC-BY-SA 4.0 license.\n",
    "\n",
    "To obtain this data, I used the link https://figshare.com/articles/Untitled_Item/5513449, to download the file locally and unzip it."
   ]
  },
  {
   "cell_type": "markdown",
   "metadata": {},
   "source": [
    "#### Importing the Country Population data"
   ]
  },
  {
   "cell_type": "code",
   "execution_count": 2,
   "metadata": {
    "collapsed": false
   },
   "outputs": [],
   "source": [
    "page_data = pd.read_csv('./imported_data/page_data.csv')\n",
    "\n",
    "population = pd.read_csv('./imported_data/Population Mid-2015.csv', header = 1, thousands=',')"
   ]
  },
  {
   "cell_type": "code",
   "execution_count": 3,
   "metadata": {
    "collapsed": false
   },
   "outputs": [],
   "source": [
    "#Create a list to store column of revision IDs from page_data.csv\n",
    "rev_ids = []\n",
    "rev_ids = page_data['rev_id']"
   ]
  },
  {
   "cell_type": "markdown",
   "metadata": {},
   "source": [
    "#### Store all Rev_ID values into a string"
   ]
  },
  {
   "cell_type": "code",
   "execution_count": 4,
   "metadata": {
    "collapsed": false
   },
   "outputs": [],
   "source": [
    "rev_store = str(rev_ids[0])\n",
    "i = 1\n",
    "while i < len(rev_ids): \n",
    "    rev_store = rev_store + \"|\" + str(rev_ids[i])\n",
    "    i+=1"
   ]
  },
  {
   "cell_type": "markdown",
   "metadata": {},
   "source": [
    "### Step 2: Getting Article Quality Predictions using ORES"
   ]
  },
  {
   "cell_type": "markdown",
   "metadata": {},
   "source": [
    "The step below loops through the \"rev_store\" variable which stores all rev_ids with a \"|\" delimitation.  It will take a chunk of 100 rev_ids from the \"rev_store\" variable and make a call to the ORES API on Wikipedia, which will return an JSON output into a \"response\" variable.  The final step in each loop will run an internal loop to extract the predictions from the JSON output and store each revision_id and prediction into a list."
   ]
  },
  {
   "cell_type": "code",
   "execution_count": 5,
   "metadata": {
    "collapsed": false
   },
   "outputs": [
    {
     "name": "stdout",
     "output_type": "stream",
     "text": [
      "RevID with Exception: 807367030\n",
      "RevID with Exception: 807367166\n"
     ]
    }
   ],
   "source": [
    "predictions = []\n",
    "beg = 0\n",
    "\n",
    "endpoint = 'https://ores.wikimedia.org/v3/scores/{context}?models={models}&revids={revids}'\n",
    "headers = {'User-Agent' : 'https://github.com/samirpdx', 'From' : 'sdpatel@uw.edu'}\n",
    "\n",
    "for j in range(1 + int((len(rev_store)/1000))):\n",
    "\n",
    "    end = beg + 999\n",
    "\n",
    "    params = {'context' : 'enwiki',\n",
    "              'models' : 'wp10',\n",
    "              'revids' : rev_store[beg:end]\n",
    "              }\n",
    "\n",
    "    api_call = requests.get(endpoint.format(**params))\n",
    "    response = api_call.json()\n",
    "\n",
    "    for key in response['enwiki']['scores']:\n",
    "        try:\n",
    "            val = response['enwiki']['scores'][key]['wp10']['score']['prediction']\n",
    "            predictions.append([key, val])\n",
    "        except: \n",
    "            print(\"RevID with Exception:\", key)\n",
    "            predictions.append([key, np.nan])\n",
    "    beg = end +1    "
   ]
  },
  {
   "cell_type": "markdown",
   "metadata": {},
   "source": [
    "    Attribution/Credit of example provided to help create code above:  Jonathan Morgan and Oliver Keyes (University of Washington, HCDE 512, Autumn 2017)"
   ]
  },
  {
   "cell_type": "markdown",
   "metadata": {},
   "source": [
    "Note:  There are some revision_ids which are not associated with prediction scores.  These are listed above and were assigned \"nan\" to denote no articles."
   ]
  },
  {
   "cell_type": "markdown",
   "metadata": {},
   "source": [
    "#### Saving predictions with pickle package."
   ]
  },
  {
   "cell_type": "code",
   "execution_count": 6,
   "metadata": {
    "collapsed": false
   },
   "outputs": [],
   "source": [
    "#The commented function below was used to store the data object containing predictions\n",
    "# as processing takes a few minutes.\n",
    "\n",
    "pickle.dump(predictions, open('predictions', 'wb'))"
   ]
  },
  {
   "cell_type": "code",
   "execution_count": 7,
   "metadata": {
    "collapsed": false
   },
   "outputs": [],
   "source": [
    "predictions = pickle.load(open('predictions', 'rb'))"
   ]
  },
  {
   "cell_type": "markdown",
   "metadata": {},
   "source": [
    "### Step 3: Combining the data sets"
   ]
  },
  {
   "cell_type": "markdown",
   "metadata": {},
   "source": [
    "Steps below will performing pre-processing steps to obtain final combined dataset of article predictions associated to population by country."
   ]
  },
  {
   "cell_type": "code",
   "execution_count": 8,
   "metadata": {
    "collapsed": false,
    "scrolled": true
   },
   "outputs": [],
   "source": [
    "#Creating a dataframe for prediction values and converting data types as necessary.\n",
    "df_predictions = pd.DataFrame(np.array(predictions))\n",
    "df_predictions.columns = ['rev_id', \"Prediction\"]\n",
    "df_predictions['rev_id'] = df_predictions['rev_id'].astype(np.int64)\n",
    "\n",
    "#Merging Page Data and Predictions into new dataframe\n",
    "page_data2 = pd.merge(page_data, df_predictions,left_on='rev_id', right_on='rev_id')\n",
    "page_data2 = page_data2.drop_duplicates()\n",
    "\n",
    "#Merging New Page Data (w/ Predictions) and Population\n",
    "df_merged = pd.merge(page_data2, population,left_on='country', right_on='Location')\n",
    "df_merged.sort_values('country').head(3)\n",
    "\n",
    "#Dropping irrelevant columns and renaming others\n",
    "df_merged = df_merged.drop('Location', axis=1)\n",
    "df_merged = df_merged.drop('Location Type', axis=1)\n",
    "df_merged = df_merged.drop('TimeFrame', axis=1)\n",
    "df_merged = df_merged.drop('Data Type', axis=1)\n",
    "df_merged = df_merged.drop('Footnotes', axis=1)\n",
    "df_merged.columns = ['article_name', 'country',  'revision_id', 'article_quality', 'population']"
   ]
  },
  {
   "cell_type": "markdown",
   "metadata": {},
   "source": [
    "Step below will output data as CSV to local directory."
   ]
  },
  {
   "cell_type": "code",
   "execution_count": 9,
   "metadata": {
    "collapsed": false
   },
   "outputs": [],
   "source": [
    "df_merged.to_csv('./final_data/final_merged.csv', index=False)"
   ]
  },
  {
   "cell_type": "markdown",
   "metadata": {},
   "source": [
    "### Step 4: Analysis"
   ]
  },
  {
   "cell_type": "markdown",
   "metadata": {},
   "source": [
    "The steps below will calculate, as a percentage, the proportion of articles-per-population for each country."
   ]
  },
  {
   "cell_type": "code",
   "execution_count": 10,
   "metadata": {
    "collapsed": false
   },
   "outputs": [],
   "source": [
    "group1 = df_merged.groupby(['country','population']).count().reset_index()\n",
    "group1 = group1.drop('revision_id', axis=1)\n",
    "group1 = group1.drop('article_quality', axis=1)\n",
    "group1 = group1.rename(columns = {'article_name':'article_count'})\n",
    "group1['articles_per_pop'] = 100*group1['article_count']/group1['population']"
   ]
  },
  {
   "cell_type": "markdown",
   "metadata": {},
   "source": [
    "The steps below will calculate, as a percentage, the proportion of high-quality articles for each country.\n",
    "\n",
    "    - \"High quality\" refers to the number of articles about politicians in a given country that ORES predicted would be in either the \"FA\" or \"GA\" classes"
   ]
  },
  {
   "cell_type": "code",
   "execution_count": 11,
   "metadata": {
    "collapsed": false
   },
   "outputs": [],
   "source": [
    "#Groupby to count total article quantities per quality category\n",
    "\n",
    "group2 = df_merged.groupby(['country','article_quality']).count().reset_index()\n",
    "group2 = group2.drop('population', axis=1)\n",
    "group2 = group2.drop('revision_id', axis=1)\n",
    "group2 = group2.rename(columns = {'article_name':'article_counts'})"
   ]
  },
  {
   "cell_type": "code",
   "execution_count": 12,
   "metadata": {
    "collapsed": false
   },
   "outputs": [],
   "source": [
    "#Groupby to count total article quantities per country\n",
    "\n",
    "group2_total = group2.groupby(['country'])['article_counts'].sum().reset_index()\n",
    "group2_total = group2_total.rename(columns = {'article_counts':'article_totals'})"
   ]
  },
  {
   "cell_type": "code",
   "execution_count": 13,
   "metadata": {
    "collapsed": true
   },
   "outputs": [],
   "source": [
    "#Creating a list to store all countries in dataset (for later aggregation reindexing)\n",
    "\n",
    "country_list= pd.DataFrame(group2['country'].unique())"
   ]
  },
  {
   "cell_type": "code",
   "execution_count": 14,
   "metadata": {
    "collapsed": false
   },
   "outputs": [],
   "source": [
    "#Creating a subset of \"High Quality\" article categories, followed by aggregation by country\n",
    "group2b = group2[(group2['article_quality']== 'FA') | (group2['article_quality']== 'GA')]\n",
    "group2c = group2b.groupby('country')['article_counts'].sum()\n",
    "\n",
    "#Reindexing to include countries with zero \"High Quality\" articles.\n",
    "group2c = group2c.reindex(country_list[0], fill_value = 0)\n",
    "group2c = pd.DataFrame(group2c).reset_index()\n",
    "group2c = group2c.rename(columns = {0:'country'})\n",
    "\n",
    "#Performing merge of High Quality article counts and Total article counts\n",
    "group2c = pd.merge(group2c, group2_total,left_on='country', right_on='country')\n",
    "\n",
    "#Creating column for percentage of high quality articles out of total\n",
    "\n",
    "group2c['hqa_per_country']= 100*group2c['article_counts']/group2c['article_totals']"
   ]
  },
  {
   "cell_type": "markdown",
   "metadata": {},
   "source": [
    "### Step 5: Visualization"
   ]
  },
  {
   "cell_type": "markdown",
   "metadata": {},
   "source": [
    " "
   ]
  },
  {
   "cell_type": "markdown",
   "metadata": {},
   "source": [
    "### 10 highest-ranked countries in terms of number of politician articles as a proportion of country population"
   ]
  },
  {
   "cell_type": "code",
   "execution_count": 15,
   "metadata": {
    "collapsed": false
   },
   "outputs": [
    {
     "data": {
      "text/html": [
       "<div>\n",
       "<table border=\"1\" class=\"dataframe\">\n",
       "  <thead>\n",
       "    <tr style=\"text-align: right;\">\n",
       "      <th></th>\n",
       "      <th>country</th>\n",
       "      <th>population</th>\n",
       "      <th>article_count</th>\n",
       "      <th>articles_per_pop</th>\n",
       "    </tr>\n",
       "  </thead>\n",
       "  <tbody>\n",
       "    <tr>\n",
       "      <th>120</th>\n",
       "      <td>Nauru</td>\n",
       "      <td>10860</td>\n",
       "      <td>53</td>\n",
       "      <td>0.488029</td>\n",
       "    </tr>\n",
       "    <tr>\n",
       "      <th>173</th>\n",
       "      <td>Tuvalu</td>\n",
       "      <td>11800</td>\n",
       "      <td>55</td>\n",
       "      <td>0.466102</td>\n",
       "    </tr>\n",
       "    <tr>\n",
       "      <th>141</th>\n",
       "      <td>San Marino</td>\n",
       "      <td>33000</td>\n",
       "      <td>82</td>\n",
       "      <td>0.248485</td>\n",
       "    </tr>\n",
       "    <tr>\n",
       "      <th>113</th>\n",
       "      <td>Monaco</td>\n",
       "      <td>38088</td>\n",
       "      <td>40</td>\n",
       "      <td>0.105020</td>\n",
       "    </tr>\n",
       "    <tr>\n",
       "      <th>97</th>\n",
       "      <td>Liechtenstein</td>\n",
       "      <td>37570</td>\n",
       "      <td>29</td>\n",
       "      <td>0.077189</td>\n",
       "    </tr>\n",
       "    <tr>\n",
       "      <th>107</th>\n",
       "      <td>Marshall Islands</td>\n",
       "      <td>55000</td>\n",
       "      <td>37</td>\n",
       "      <td>0.067273</td>\n",
       "    </tr>\n",
       "    <tr>\n",
       "      <th>72</th>\n",
       "      <td>Iceland</td>\n",
       "      <td>330828</td>\n",
       "      <td>206</td>\n",
       "      <td>0.062268</td>\n",
       "    </tr>\n",
       "    <tr>\n",
       "      <th>168</th>\n",
       "      <td>Tonga</td>\n",
       "      <td>103300</td>\n",
       "      <td>63</td>\n",
       "      <td>0.060987</td>\n",
       "    </tr>\n",
       "    <tr>\n",
       "      <th>3</th>\n",
       "      <td>Andorra</td>\n",
       "      <td>78000</td>\n",
       "      <td>34</td>\n",
       "      <td>0.043590</td>\n",
       "    </tr>\n",
       "    <tr>\n",
       "      <th>54</th>\n",
       "      <td>Federated States of Micronesia</td>\n",
       "      <td>103000</td>\n",
       "      <td>38</td>\n",
       "      <td>0.036893</td>\n",
       "    </tr>\n",
       "  </tbody>\n",
       "</table>\n",
       "</div>"
      ],
      "text/plain": [
       "                            country  population  article_count  \\\n",
       "120                           Nauru       10860             53   \n",
       "173                          Tuvalu       11800             55   \n",
       "141                      San Marino       33000             82   \n",
       "113                          Monaco       38088             40   \n",
       "97                    Liechtenstein       37570             29   \n",
       "107                Marshall Islands       55000             37   \n",
       "72                          Iceland      330828            206   \n",
       "168                           Tonga      103300             63   \n",
       "3                           Andorra       78000             34   \n",
       "54   Federated States of Micronesia      103000             38   \n",
       "\n",
       "     articles_per_pop  \n",
       "120          0.488029  \n",
       "173          0.466102  \n",
       "141          0.248485  \n",
       "113          0.105020  \n",
       "97           0.077189  \n",
       "107          0.067273  \n",
       "72           0.062268  \n",
       "168          0.060987  \n",
       "3            0.043590  \n",
       "54           0.036893  "
      ]
     },
     "execution_count": 15,
     "metadata": {},
     "output_type": "execute_result"
    }
   ],
   "source": [
    "graph1 = group1.sort_values(by = 'articles_per_pop', ascending = False).head(10)\n",
    "graph1"
   ]
  },
  {
   "cell_type": "code",
   "execution_count": 16,
   "metadata": {
    "collapsed": false,
    "scrolled": true
   },
   "outputs": [
    {
     "data": {
      "image/png": "[encoded data removed]",
      "text/plain": [
       "<matplotlib.figure.Figure at 0x1ea856a7240>"
      ]
     },
     "metadata": {},
     "output_type": "display_data"
    }
   ],
   "source": [
    "#Creating graph for 10 highest ranked countries for articles per population\n",
    "p1 = graph1.plot(x = 'country', y = 'articles_per_pop', kind = 'bar', figsize =(20, 8),legend = False, fontsize = 18 )\n",
    "plt.title(\"10 Highest Ranked Countries - Number of Articles per Population\", fontsize = 20);\n",
    "plt.xlabel(\"country\", fontsize = 20)\n",
    "plt.ylabel(\"Articles per Population (%)\", fontsize = 20)\n",
    "plt.tight_layout()\n",
    "plt.savefig('./images/articles_per_pop_top10.png')\n"
   ]
  },
  {
   "cell_type": "markdown",
   "metadata": {},
   "source": [
    " "
   ]
  },
  {
   "cell_type": "markdown",
   "metadata": {},
   "source": [
    "### 10 lowest-ranked countries in terms of number of politician articles as a proportion of country population"
   ]
  },
  {
   "cell_type": "code",
   "execution_count": 17,
   "metadata": {
    "collapsed": false
   },
   "outputs": [
    {
     "data": {
      "text/html": [
       "<div>\n",
       "<table border=\"1\" class=\"dataframe\">\n",
       "  <thead>\n",
       "    <tr style=\"text-align: right;\">\n",
       "      <th></th>\n",
       "      <th>country</th>\n",
       "      <th>population</th>\n",
       "      <th>article_count</th>\n",
       "      <th>articles_per_pop</th>\n",
       "    </tr>\n",
       "  </thead>\n",
       "  <tbody>\n",
       "    <tr>\n",
       "      <th>73</th>\n",
       "      <td>India</td>\n",
       "      <td>1314097616</td>\n",
       "      <td>990</td>\n",
       "      <td>0.000075</td>\n",
       "    </tr>\n",
       "    <tr>\n",
       "      <th>34</th>\n",
       "      <td>China</td>\n",
       "      <td>1371920000</td>\n",
       "      <td>1138</td>\n",
       "      <td>0.000083</td>\n",
       "    </tr>\n",
       "    <tr>\n",
       "      <th>74</th>\n",
       "      <td>Indonesia</td>\n",
       "      <td>255741973</td>\n",
       "      <td>215</td>\n",
       "      <td>0.000084</td>\n",
       "    </tr>\n",
       "    <tr>\n",
       "      <th>180</th>\n",
       "      <td>Uzbekistan</td>\n",
       "      <td>31290791</td>\n",
       "      <td>29</td>\n",
       "      <td>0.000093</td>\n",
       "    </tr>\n",
       "    <tr>\n",
       "      <th>53</th>\n",
       "      <td>Ethiopia</td>\n",
       "      <td>98148000</td>\n",
       "      <td>105</td>\n",
       "      <td>0.000107</td>\n",
       "    </tr>\n",
       "    <tr>\n",
       "      <th>86</th>\n",
       "      <td>Korea, North</td>\n",
       "      <td>24983000</td>\n",
       "      <td>39</td>\n",
       "      <td>0.000156</td>\n",
       "    </tr>\n",
       "    <tr>\n",
       "      <th>185</th>\n",
       "      <td>Zambia</td>\n",
       "      <td>15473900</td>\n",
       "      <td>26</td>\n",
       "      <td>0.000168</td>\n",
       "    </tr>\n",
       "    <tr>\n",
       "      <th>166</th>\n",
       "      <td>Thailand</td>\n",
       "      <td>65121250</td>\n",
       "      <td>112</td>\n",
       "      <td>0.000172</td>\n",
       "    </tr>\n",
       "    <tr>\n",
       "      <th>38</th>\n",
       "      <td>Congo, Dem. Rep. of</td>\n",
       "      <td>73340200</td>\n",
       "      <td>142</td>\n",
       "      <td>0.000194</td>\n",
       "    </tr>\n",
       "    <tr>\n",
       "      <th>13</th>\n",
       "      <td>Bangladesh</td>\n",
       "      <td>160411000</td>\n",
       "      <td>324</td>\n",
       "      <td>0.000202</td>\n",
       "    </tr>\n",
       "  </tbody>\n",
       "</table>\n",
       "</div>"
      ],
      "text/plain": [
       "                 country  population  article_count  articles_per_pop\n",
       "73                 India  1314097616            990          0.000075\n",
       "34                 China  1371920000           1138          0.000083\n",
       "74             Indonesia   255741973            215          0.000084\n",
       "180           Uzbekistan    31290791             29          0.000093\n",
       "53              Ethiopia    98148000            105          0.000107\n",
       "86          Korea, North    24983000             39          0.000156\n",
       "185               Zambia    15473900             26          0.000168\n",
       "166             Thailand    65121250            112          0.000172\n",
       "38   Congo, Dem. Rep. of    73340200            142          0.000194\n",
       "13            Bangladesh   160411000            324          0.000202"
      ]
     },
     "execution_count": 17,
     "metadata": {},
     "output_type": "execute_result"
    }
   ],
   "source": [
    "graph2 = group1.sort_values(by = 'articles_per_pop', ascending = True).head(10)\n",
    "graph2"
   ]
  },
  {
   "cell_type": "code",
   "execution_count": 18,
   "metadata": {
    "collapsed": false,
    "scrolled": true
   },
   "outputs": [
    {
     "data": {
      "image/png": "[encoded data removed]",
      "text/plain": [
       "<matplotlib.figure.Figure at 0x1ea873cc668>"
      ]
     },
     "metadata": {},
     "output_type": "display_data"
    }
   ],
   "source": [
    "#Creating graph for 10 lowest ranked countries for articles per population\n",
    "p2 = graph2.plot(x = 'country', y = 'articles_per_pop', kind = 'bar', figsize =(20, 8),legend = False, fontsize = 18 )\n",
    "plt.title(\"10 Lowest Ranked Countries - Number of Articles per Population\", fontsize = 20);\n",
    "plt.xlabel(\"country\", fontsize = 20)\n",
    "plt.ylabel(\"Articles per Population (%)\", fontsize = 20)\n",
    "plt.tight_layout()\n",
    "plt.savefig('./images/articles_per_pop_bot10.png')"
   ]
  },
  {
   "cell_type": "markdown",
   "metadata": {},
   "source": [
    " "
   ]
  },
  {
   "cell_type": "markdown",
   "metadata": {},
   "source": [
    "### 10 highest-ranked countries in terms of number of GA and FA-quality articles as a proportion of all articles about politicians from that country"
   ]
  },
  {
   "cell_type": "code",
   "execution_count": 19,
   "metadata": {
    "collapsed": false
   },
   "outputs": [
    {
     "data": {
      "text/html": [
       "<div>\n",
       "<table border=\"1\" class=\"dataframe\">\n",
       "  <thead>\n",
       "    <tr style=\"text-align: right;\">\n",
       "      <th></th>\n",
       "      <th>country</th>\n",
       "      <th>article_counts</th>\n",
       "      <th>article_totals</th>\n",
       "      <th>hqa_per_country</th>\n",
       "    </tr>\n",
       "  </thead>\n",
       "  <tbody>\n",
       "    <tr>\n",
       "      <th>86</th>\n",
       "      <td>Korea, North</td>\n",
       "      <td>9</td>\n",
       "      <td>39</td>\n",
       "      <td>23.076923</td>\n",
       "    </tr>\n",
       "    <tr>\n",
       "      <th>138</th>\n",
       "      <td>Romania</td>\n",
       "      <td>45</td>\n",
       "      <td>348</td>\n",
       "      <td>12.931034</td>\n",
       "    </tr>\n",
       "    <tr>\n",
       "      <th>143</th>\n",
       "      <td>Saudi Arabia</td>\n",
       "      <td>15</td>\n",
       "      <td>119</td>\n",
       "      <td>12.605042</td>\n",
       "    </tr>\n",
       "    <tr>\n",
       "      <th>31</th>\n",
       "      <td>Central African Republic</td>\n",
       "      <td>8</td>\n",
       "      <td>68</td>\n",
       "      <td>11.764706</td>\n",
       "    </tr>\n",
       "    <tr>\n",
       "      <th>137</th>\n",
       "      <td>Qatar</td>\n",
       "      <td>5</td>\n",
       "      <td>51</td>\n",
       "      <td>9.803922</td>\n",
       "    </tr>\n",
       "    <tr>\n",
       "      <th>68</th>\n",
       "      <td>Guinea-Bissau</td>\n",
       "      <td>2</td>\n",
       "      <td>21</td>\n",
       "      <td>9.523810</td>\n",
       "    </tr>\n",
       "    <tr>\n",
       "      <th>183</th>\n",
       "      <td>Vietnam</td>\n",
       "      <td>18</td>\n",
       "      <td>191</td>\n",
       "      <td>9.424084</td>\n",
       "    </tr>\n",
       "    <tr>\n",
       "      <th>19</th>\n",
       "      <td>Bhutan</td>\n",
       "      <td>3</td>\n",
       "      <td>33</td>\n",
       "      <td>9.090909</td>\n",
       "    </tr>\n",
       "    <tr>\n",
       "      <th>77</th>\n",
       "      <td>Ireland</td>\n",
       "      <td>31</td>\n",
       "      <td>381</td>\n",
       "      <td>8.136483</td>\n",
       "    </tr>\n",
       "    <tr>\n",
       "      <th>178</th>\n",
       "      <td>United States</td>\n",
       "      <td>86</td>\n",
       "      <td>1098</td>\n",
       "      <td>7.832423</td>\n",
       "    </tr>\n",
       "  </tbody>\n",
       "</table>\n",
       "</div>"
      ],
      "text/plain": [
       "                      country  article_counts  article_totals  hqa_per_country\n",
       "86               Korea, North               9              39        23.076923\n",
       "138                   Romania              45             348        12.931034\n",
       "143              Saudi Arabia              15             119        12.605042\n",
       "31   Central African Republic               8              68        11.764706\n",
       "137                     Qatar               5              51         9.803922\n",
       "68              Guinea-Bissau               2              21         9.523810\n",
       "183                   Vietnam              18             191         9.424084\n",
       "19                     Bhutan               3              33         9.090909\n",
       "77                    Ireland              31             381         8.136483\n",
       "178             United States              86            1098         7.832423"
      ]
     },
     "execution_count": 19,
     "metadata": {},
     "output_type": "execute_result"
    }
   ],
   "source": [
    "graph3 = group2c.sort_values(by = 'hqa_per_country', ascending = False).head(10)\n",
    "graph3"
   ]
  },
  {
   "cell_type": "code",
   "execution_count": 20,
   "metadata": {
    "collapsed": false,
    "scrolled": true
   },
   "outputs": [
    {
     "data": {
      "image/png": "[encoded data removed]",
      "text/plain": [
       "<matplotlib.figure.Figure at 0x1ea8744c780>"
      ]
     },
     "metadata": {},
     "output_type": "display_data"
    }
   ],
   "source": [
    "#Creating graph for 10 highest ranked countries for percentage of high quality articles\n",
    "p3 = graph3.plot(x = 'country', y = 'hqa_per_country', kind = 'bar', figsize =(20, 8),legend = False, fontsize = 18 )\n",
    "plt.title(\"10 Highest Ranked Countries - Percentage of High Quality Articles\", fontsize = 20);\n",
    "plt.xlabel(\"country\", fontsize = 20)\n",
    "plt.ylabel(\"% of High Quality Articles\", fontsize = 20)\n",
    "plt.tight_layout()\n",
    "plt.savefig('./images/hqa_country_top10.png')"
   ]
  },
  {
   "cell_type": "markdown",
   "metadata": {},
   "source": [
    " "
   ]
  },
  {
   "cell_type": "markdown",
   "metadata": {},
   "source": [
    "### 10 lowest-ranked countries in terms of number of GA and FA-quality articles as a proportion of all articles about politicians from that country"
   ]
  },
  {
   "cell_type": "code",
   "execution_count": 21,
   "metadata": {
    "collapsed": false,
    "scrolled": true
   },
   "outputs": [
    {
     "data": {
      "text/html": [
       "<div>\n",
       "<table border=\"1\" class=\"dataframe\">\n",
       "  <thead>\n",
       "    <tr style=\"text-align: right;\">\n",
       "      <th></th>\n",
       "      <th>country</th>\n",
       "      <th>article_counts</th>\n",
       "      <th>article_totals</th>\n",
       "      <th>hqa_per_country</th>\n",
       "    </tr>\n",
       "  </thead>\n",
       "  <tbody>\n",
       "    <tr>\n",
       "      <th>142</th>\n",
       "      <td>Sao Tome and Principe</td>\n",
       "      <td>0</td>\n",
       "      <td>22</td>\n",
       "      <td>0.0</td>\n",
       "    </tr>\n",
       "    <tr>\n",
       "      <th>172</th>\n",
       "      <td>Turkmenistan</td>\n",
       "      <td>0</td>\n",
       "      <td>33</td>\n",
       "      <td>0.0</td>\n",
       "    </tr>\n",
       "    <tr>\n",
       "      <th>107</th>\n",
       "      <td>Marshall Islands</td>\n",
       "      <td>0</td>\n",
       "      <td>37</td>\n",
       "      <td>0.0</td>\n",
       "    </tr>\n",
       "    <tr>\n",
       "      <th>69</th>\n",
       "      <td>Guyana</td>\n",
       "      <td>0</td>\n",
       "      <td>20</td>\n",
       "      <td>0.0</td>\n",
       "    </tr>\n",
       "    <tr>\n",
       "      <th>36</th>\n",
       "      <td>Comoros</td>\n",
       "      <td>0</td>\n",
       "      <td>51</td>\n",
       "      <td>0.0</td>\n",
       "    </tr>\n",
       "    <tr>\n",
       "      <th>170</th>\n",
       "      <td>Tunisia</td>\n",
       "      <td>0</td>\n",
       "      <td>140</td>\n",
       "      <td>0.0</td>\n",
       "    </tr>\n",
       "    <tr>\n",
       "      <th>45</th>\n",
       "      <td>Djibouti</td>\n",
       "      <td>0</td>\n",
       "      <td>39</td>\n",
       "      <td>0.0</td>\n",
       "    </tr>\n",
       "    <tr>\n",
       "      <th>46</th>\n",
       "      <td>Dominica</td>\n",
       "      <td>0</td>\n",
       "      <td>12</td>\n",
       "      <td>0.0</td>\n",
       "    </tr>\n",
       "    <tr>\n",
       "      <th>100</th>\n",
       "      <td>Macedonia</td>\n",
       "      <td>0</td>\n",
       "      <td>65</td>\n",
       "      <td>0.0</td>\n",
       "    </tr>\n",
       "    <tr>\n",
       "      <th>168</th>\n",
       "      <td>Tonga</td>\n",
       "      <td>0</td>\n",
       "      <td>63</td>\n",
       "      <td>0.0</td>\n",
       "    </tr>\n",
       "    <tr>\n",
       "      <th>51</th>\n",
       "      <td>Eritrea</td>\n",
       "      <td>0</td>\n",
       "      <td>16</td>\n",
       "      <td>0.0</td>\n",
       "    </tr>\n",
       "    <tr>\n",
       "      <th>30</th>\n",
       "      <td>Cape Verde</td>\n",
       "      <td>0</td>\n",
       "      <td>37</td>\n",
       "      <td>0.0</td>\n",
       "    </tr>\n",
       "    <tr>\n",
       "      <th>97</th>\n",
       "      <td>Liechtenstein</td>\n",
       "      <td>0</td>\n",
       "      <td>29</td>\n",
       "      <td>0.0</td>\n",
       "    </tr>\n",
       "    <tr>\n",
       "      <th>54</th>\n",
       "      <td>Federated States of Micronesia</td>\n",
       "      <td>0</td>\n",
       "      <td>38</td>\n",
       "      <td>0.0</td>\n",
       "    </tr>\n",
       "    <tr>\n",
       "      <th>185</th>\n",
       "      <td>Zambia</td>\n",
       "      <td>0</td>\n",
       "      <td>26</td>\n",
       "      <td>0.0</td>\n",
       "    </tr>\n",
       "    <tr>\n",
       "      <th>58</th>\n",
       "      <td>French Guiana</td>\n",
       "      <td>0</td>\n",
       "      <td>28</td>\n",
       "      <td>0.0</td>\n",
       "    </tr>\n",
       "    <tr>\n",
       "      <th>85</th>\n",
       "      <td>Kiribati</td>\n",
       "      <td>0</td>\n",
       "      <td>32</td>\n",
       "      <td>0.0</td>\n",
       "    </tr>\n",
       "    <tr>\n",
       "      <th>83</th>\n",
       "      <td>Kazakhstan</td>\n",
       "      <td>0</td>\n",
       "      <td>79</td>\n",
       "      <td>0.0</td>\n",
       "    </tr>\n",
       "    <tr>\n",
       "      <th>158</th>\n",
       "      <td>Suriname</td>\n",
       "      <td>0</td>\n",
       "      <td>40</td>\n",
       "      <td>0.0</td>\n",
       "    </tr>\n",
       "    <tr>\n",
       "      <th>159</th>\n",
       "      <td>Swaziland</td>\n",
       "      <td>0</td>\n",
       "      <td>32</td>\n",
       "      <td>0.0</td>\n",
       "    </tr>\n",
       "    <tr>\n",
       "      <th>65</th>\n",
       "      <td>Guadeloupe</td>\n",
       "      <td>0</td>\n",
       "      <td>49</td>\n",
       "      <td>0.0</td>\n",
       "    </tr>\n",
       "    <tr>\n",
       "      <th>164</th>\n",
       "      <td>Tajikistan</td>\n",
       "      <td>0</td>\n",
       "      <td>40</td>\n",
       "      <td>0.0</td>\n",
       "    </tr>\n",
       "    <tr>\n",
       "      <th>161</th>\n",
       "      <td>Switzerland</td>\n",
       "      <td>0</td>\n",
       "      <td>407</td>\n",
       "      <td>0.0</td>\n",
       "    </tr>\n",
       "    <tr>\n",
       "      <th>94</th>\n",
       "      <td>Lesotho</td>\n",
       "      <td>0</td>\n",
       "      <td>30</td>\n",
       "      <td>0.0</td>\n",
       "    </tr>\n",
       "    <tr>\n",
       "      <th>26</th>\n",
       "      <td>Burundi</td>\n",
       "      <td>0</td>\n",
       "      <td>76</td>\n",
       "      <td>0.0</td>\n",
       "    </tr>\n",
       "    <tr>\n",
       "      <th>141</th>\n",
       "      <td>San Marino</td>\n",
       "      <td>0</td>\n",
       "      <td>82</td>\n",
       "      <td>0.0</td>\n",
       "    </tr>\n",
       "    <tr>\n",
       "      <th>113</th>\n",
       "      <td>Monaco</td>\n",
       "      <td>0</td>\n",
       "      <td>40</td>\n",
       "      <td>0.0</td>\n",
       "    </tr>\n",
       "    <tr>\n",
       "      <th>120</th>\n",
       "      <td>Nauru</td>\n",
       "      <td>0</td>\n",
       "      <td>53</td>\n",
       "      <td>0.0</td>\n",
       "    </tr>\n",
       "    <tr>\n",
       "      <th>14</th>\n",
       "      <td>Barbados</td>\n",
       "      <td>0</td>\n",
       "      <td>14</td>\n",
       "      <td>0.0</td>\n",
       "    </tr>\n",
       "    <tr>\n",
       "      <th>121</th>\n",
       "      <td>Nepal</td>\n",
       "      <td>0</td>\n",
       "      <td>363</td>\n",
       "      <td>0.0</td>\n",
       "    </tr>\n",
       "    <tr>\n",
       "      <th>12</th>\n",
       "      <td>Bahrain</td>\n",
       "      <td>0</td>\n",
       "      <td>42</td>\n",
       "      <td>0.0</td>\n",
       "    </tr>\n",
       "    <tr>\n",
       "      <th>11</th>\n",
       "      <td>Bahamas</td>\n",
       "      <td>0</td>\n",
       "      <td>20</td>\n",
       "      <td>0.0</td>\n",
       "    </tr>\n",
       "    <tr>\n",
       "      <th>17</th>\n",
       "      <td>Belize</td>\n",
       "      <td>0</td>\n",
       "      <td>16</td>\n",
       "      <td>0.0</td>\n",
       "    </tr>\n",
       "    <tr>\n",
       "      <th>117</th>\n",
       "      <td>Mozambique</td>\n",
       "      <td>0</td>\n",
       "      <td>60</td>\n",
       "      <td>0.0</td>\n",
       "    </tr>\n",
       "    <tr>\n",
       "      <th>16</th>\n",
       "      <td>Belgium</td>\n",
       "      <td>0</td>\n",
       "      <td>523</td>\n",
       "      <td>0.0</td>\n",
       "    </tr>\n",
       "    <tr>\n",
       "      <th>151</th>\n",
       "      <td>Solomon Islands</td>\n",
       "      <td>0</td>\n",
       "      <td>98</td>\n",
       "      <td>0.0</td>\n",
       "    </tr>\n",
       "    <tr>\n",
       "      <th>5</th>\n",
       "      <td>Antigua and Barbuda</td>\n",
       "      <td>0</td>\n",
       "      <td>25</td>\n",
       "      <td>0.0</td>\n",
       "    </tr>\n",
       "    <tr>\n",
       "      <th>146</th>\n",
       "      <td>Seychelles</td>\n",
       "      <td>0</td>\n",
       "      <td>22</td>\n",
       "      <td>0.0</td>\n",
       "    </tr>\n",
       "    <tr>\n",
       "      <th>3</th>\n",
       "      <td>Andorra</td>\n",
       "      <td>0</td>\n",
       "      <td>34</td>\n",
       "      <td>0.0</td>\n",
       "    </tr>\n",
       "  </tbody>\n",
       "</table>\n",
       "</div>"
      ],
      "text/plain": [
       "                            country  article_counts  article_totals  \\\n",
       "142           Sao Tome and Principe               0              22   \n",
       "172                    Turkmenistan               0              33   \n",
       "107                Marshall Islands               0              37   \n",
       "69                           Guyana               0              20   \n",
       "36                          Comoros               0              51   \n",
       "170                         Tunisia               0             140   \n",
       "45                         Djibouti               0              39   \n",
       "46                         Dominica               0              12   \n",
       "100                       Macedonia               0              65   \n",
       "168                           Tonga               0              63   \n",
       "51                          Eritrea               0              16   \n",
       "30                       Cape Verde               0              37   \n",
       "97                    Liechtenstein               0              29   \n",
       "54   Federated States of Micronesia               0              38   \n",
       "185                          Zambia               0              26   \n",
       "58                    French Guiana               0              28   \n",
       "85                         Kiribati               0              32   \n",
       "83                       Kazakhstan               0              79   \n",
       "158                        Suriname               0              40   \n",
       "159                       Swaziland               0              32   \n",
       "65                       Guadeloupe               0              49   \n",
       "164                      Tajikistan               0              40   \n",
       "161                     Switzerland               0             407   \n",
       "94                          Lesotho               0              30   \n",
       "26                          Burundi               0              76   \n",
       "141                      San Marino               0              82   \n",
       "113                          Monaco               0              40   \n",
       "120                           Nauru               0              53   \n",
       "14                         Barbados               0              14   \n",
       "121                           Nepal               0             363   \n",
       "12                          Bahrain               0              42   \n",
       "11                          Bahamas               0              20   \n",
       "17                           Belize               0              16   \n",
       "117                      Mozambique               0              60   \n",
       "16                          Belgium               0             523   \n",
       "151                 Solomon Islands               0              98   \n",
       "5               Antigua and Barbuda               0              25   \n",
       "146                      Seychelles               0              22   \n",
       "3                           Andorra               0              34   \n",
       "\n",
       "     hqa_per_country  \n",
       "142              0.0  \n",
       "172              0.0  \n",
       "107              0.0  \n",
       "69               0.0  \n",
       "36               0.0  \n",
       "170              0.0  \n",
       "45               0.0  \n",
       "46               0.0  \n",
       "100              0.0  \n",
       "168              0.0  \n",
       "51               0.0  \n",
       "30               0.0  \n",
       "97               0.0  \n",
       "54               0.0  \n",
       "185              0.0  \n",
       "58               0.0  \n",
       "85               0.0  \n",
       "83               0.0  \n",
       "158              0.0  \n",
       "159              0.0  \n",
       "65               0.0  \n",
       "164              0.0  \n",
       "161              0.0  \n",
       "94               0.0  \n",
       "26               0.0  \n",
       "141              0.0  \n",
       "113              0.0  \n",
       "120              0.0  \n",
       "14               0.0  \n",
       "121              0.0  \n",
       "12               0.0  \n",
       "11               0.0  \n",
       "17               0.0  \n",
       "117              0.0  \n",
       "16               0.0  \n",
       "151              0.0  \n",
       "5                0.0  \n",
       "146              0.0  \n",
       "3                0.0  "
      ]
     },
     "execution_count": 21,
     "metadata": {},
     "output_type": "execute_result"
    }
   ],
   "source": [
    "graph4 = group2c.sort_values(by = 'hqa_per_country', ascending = True).head(39)\n",
    "graph4"
   ]
  },
  {
   "cell_type": "markdown",
   "metadata": {},
   "source": [
    "Note: No plot was created for the 10 lowest-ranked countries (to be clear 39 countries are tied for lowest), since all values were 0."
   ]
  },
  {
   "cell_type": "markdown",
   "metadata": {},
   "source": [
    " "
   ]
  },
  {
   "cell_type": "markdown",
   "metadata": {},
   "source": [
    "### Step 6: Reflections"
   ]
  },
  {
   "cell_type": "markdown",
   "metadata": {},
   "source": [
    "In doing this exercise, my reflection process started with directly assessing the plotted results for answering the questions of lowest/highest rankings for politican article proportion and high quality article proportion respectively.  Ultimately, scrutinizing this data  led to a natural line of questions of considering model bias.  Some questions of mine included: How is the model trained? How are the weights of the model determined and set?  And how has the model has been updated over time (did it ever degrade over time)?\n",
    "\n",
    "The plotted results of the proportion of articles about politicans showed the highest ranked countries were ones with some of the highest populations in the world (China, India).  And the lowest countries were in similar fashion, some of the lowest populations (Nauru, Tuvalu).  So while proportion could be considered a normalizing metric to fairly consider article contribution across all countries, it did seem that population was an overwhelmingly dominant factor.  One other factor that is harder to assess and not necessarily transparent is the technological availability in all countries and their social segments to make editing contributions to such Wikipedia articles.\n",
    "\n",
    "When reviewing the results of \"high quality\" article proportions, the \"highest\" results immediately raised questions for me.   This is in part to having an American citizen's perspective of global politics.  Countries like North Korea, Saudi Arabia and Qatar,and their leaders tend to get negative coverage in some U.S. media, yet their rankings indicate they have some of the highest proportion of \"high-quality\" articles.  Although I have some existing biases of my own, this did raise questions about the ORES model and how its prediction ratings (described as being based on factual completeness, content, and language quality) are being applied. One theory I had was that perhaps bias in these ratings could be partially due to political leanings of reviewers and could have affected a training data set and future predictions.  And with ever-changing political climates in countries, did the model get adequate updating to account for fluctuations in political opinions (unless we are to assume ratings they are solely grounded in facts).\n",
    "\n",
    "Overall, this exercise was helpful in examining bias in a machine learning application by taking a step back from the results and looking at the model from a holistic perspective.  While it is easy to accept any algorithm blindly for its results, it is becoming more important than ever, in a world growing more reliant on such tools, to have a healthy skepticism and to perform due diligence on algorithmic models' inputs, implementation and outputs.\n"
   ]
  },
  {
   "cell_type": "code",
   "execution_count": null,
   "metadata": {
    "collapsed": true
   },
   "outputs": [],
   "source": []
  }
 ],
 "metadata": {
  "kernelspec": {
   "display_name": "Python 3",
   "language": "python",
   "name": "python3"
  },
  "language_info": {
   "codemirror_mode": {
    "name": "ipython",
    "version": 3
   },
   "file_extension": ".py",
   "mimetype": "text/x-python",
   "name": "python",
   "nbconvert_exporter": "python",
   "pygments_lexer": "ipython3",
   "version": "3.6.0"
  }
 },
 "nbformat": 4,
 "nbformat_minor": 2
}
